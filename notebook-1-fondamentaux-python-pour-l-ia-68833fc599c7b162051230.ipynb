{
  "cells": [
    {
      "cell_type": "markdown",
      "metadata": {
        "id": "VQzdTEd20OQQ"
      },
      "source": []
    },
    {
      "cell_type": "markdown",
      "metadata": {
        "id": "qD7z9hrS0QHi"
      },
      "source": [
        "# Notebook 1 - Fondamentaux Python pour l'IA\n",
        "# Analyse de données météorologiques en temps réel\n",
        "\n",
        "🎯 Objectifs pédagogiques\n",
        "\n",
        "Maîtriser les structures de données Python essentielles\n",
        "Consommer des APIs REST avec requests\n",
        "Manipuler des données JSON et CSV\n",
        "Créer des visualisations basiques\n",
        "Appliquer des statistiques descriptives\n",
        "\n",
        "🌤️ Contexte du projet\n",
        "\n",
        "Vous travaillez pour une startup AgTech qui développe des solutions d'agriculture intelligente. Votre mission : analyser les données météorologiques de plusieurs villes européennes pour optimiser les recommandations de plantation."
      ]
    },
    {
      "cell_type": "markdown",
      "metadata": {
        "id": "InXafSSW05HB"
      },
      "source": [
        "Partie 1 : Connexion aux APIs météo\n",
        "\n",
        "🔧 Installation des bibliothèques\n",
        "\n",
        "\n",
        " À exécuter dans votre terminal ou cellule\n",
        "# pip install requests pandas matplotlib seaborn numpy"
      ]
    },
    {
      "cell_type": "code",
      "execution_count": 23,
      "metadata": {
        "id": "VRX6x9eF08hL"
      },
      "outputs": [],
      "source": [
        "#📥 Import et configuration\n",
        "import requests\n",
        "import pandas as pd\n",
        "import numpy as np\n",
        "import matplotlib.pyplot as plt\n",
        "import seaborn as sns\n",
        "from datetime import datetime, timedelta\n",
        "import json\n",
        "from dotenv import load_dotenv\n",
        "import os"
      ]
    },
    {
      "cell_type": "markdown",
      "metadata": {
        "id": "cclqgdw01aGL"
      },
      "source": [
        "🌍 API OpenWeatherMap (gratuite)\n",
        "\n",
        "Inscription : Créez un compte sur openweathermap.org\n",
        "\n",
        "\n",
        "Clé API : Récupérez votre clé gratuite (40 000 appels/mois)\n",
        "\n"
      ]
    },
    {
      "cell_type": "code",
      "execution_count": null,
      "metadata": {
        "id": "90O22MX50sjB"
      },
      "outputs": [],
      "source": [
        "### 💡 Première requête guidée\n",
        "BASE_URL = \"http://api.openweathermap.org/data/2.5\"\n",
        "CITIES = [\"Paris\", \"Berlin\", \"Madrid\", \"Rome\", \"Amsterdam\", \"Vienna\"]\n",
        "api_key = os.getenv('VC_key')\n",
        "def get_weather_data(city, api_key):\n",
        "    \"\"\"\n",
        "    Récupère les données météo actuelles pour une ville\n",
        "\n",
        "    Étapes à compléter :\n",
        "    1. Construire l'URL avec les paramètres\n",
        "    2. Faire l'appel API avec requests.get()\n",
        "    3. Vérifier le status code\n",
        "    4. Retourner les données JSON\n",
        "    \"\"\"\n",
        "    # URL : current weather data\n",
        "    url = f\"{BASE_URL}/weather\"\n",
        "\n",
        "    # Paramètres à compléter\n",
        "    params = {\n",
        "        'q': city,\n",
        "        'appid': api_key,\n",
        "        'units': 'metric',  # Celsius\n",
        "        'lang': 'fr'\n",
        "    }\n",
        "\n",
        "    # Votre code ici pour l'appel API\n",
        "    # Gérez les erreurs HTTP !\n",
        "    try:\n",
        "        response = requests.get(url, params=params)\n",
        "        if response.status_code == 200:\n",
        "            return response.json()\n",
        "        else:\n",
        "            print(f'Erreur :  {response.status_code} : {response.text}')\n",
        "    except requests.exceptions.RequestException as e:\n",
        "        print(f'Erreur de connexion : {e}')\n",
        "\n",
        "\n",
        "\n",
        "    return response.json()  \n",
        "\n",
        "\n"
      ]
    },
    {
      "cell_type": "code",
      "execution_count": 25,
      "metadata": {
        "id": "Dsb-QIjE0slp"
      },
      "outputs": [
        {
          "name": "stdout",
          "output_type": "stream",
          "text": [
            "Erreur :  401 : {\"cod\":401, \"message\": \"Invalid API key. Please see https://openweathermap.org/faq#error401 for more info.\"}\n",
            "Erreur :  401 : {\"cod\":401, \"message\": \"Invalid API key. Please see https://openweathermap.org/faq#error401 for more info.\"}\n",
            "Erreur :  401 : {\"cod\":401, \"message\": \"Invalid API key. Please see https://openweathermap.org/faq#error401 for more info.\"}\n",
            "Erreur :  401 : {\"cod\":401, \"message\": \"Invalid API key. Please see https://openweathermap.org/faq#error401 for more info.\"}\n",
            "Erreur :  401 : {\"cod\":401, \"message\": \"Invalid API key. Please see https://openweathermap.org/faq#error401 for more info.\"}\n",
            "Erreur :  401 : {\"cod\":401, \"message\": \"Invalid API key. Please see https://openweathermap.org/faq#error401 for more info.\"}\n",
            "[]\n"
          ]
        }
      ],
      "source": [
        "# Configuration API\n",
        "API_KEY = os.getenv('OWM_key')\n",
        "BASE_URL = \"http://api.openweathermap.org/data/2.5\"\n",
        "\n",
        "# Villes à analyser (agriculture européenne)\n",
        "CITIES = [\"Paris\", \"Berlin\", \"Madrid\", \"Rome\", \"Amsterdam\", \"Vienna\"]\n",
        "\n",
        "\n",
        "def get_euro_weather(cities, API_KEY):\n",
        "    url = f'{BASE_URL}/weather'\n",
        "    results = []\n",
        "    for city in cities:\n",
        "        param = {\n",
        "            'q': city,\n",
        "            'appid': API_KEY,\n",
        "            'units': 'metric',  # Celsius\n",
        "            'lang': 'fr'\n",
        "        }\n",
        "        try:\n",
        "            response = requests.get(url, params=param)\n",
        "            if response.status_code == 200:\n",
        "                data = response.json()\n",
        "                results.append(data)\n",
        "            else:\n",
        "                print(f'Erreur :  {response.status_code} : {response.text}')\n",
        "        except requests.exceptions.RequestException as e:\n",
        "            print(f'Erreur de connexion : {e}')\n",
        "    return results\n",
        "\n",
        "list_weather = get_euro_weather(CITIES, API_KEY)\n",
        "\n",
        "print(json.dumps(list_weather, indent=2))\n"
      ]
    },
    {
      "cell_type": "markdown",
      "metadata": {
        "id": "XN6RPmCr2qDp"
      },
      "source": [
        "**Questions de débogage :**\n",
        "- Que faire si l'API retourne une erreur 401 ? </br>\n",
        "Vérifier si nous avons toutes les autorisations (si notre clé API nous permet de requêter)\n",
        "- Comment gérer une ville introuvable ? </br>\n",
        "Trouver une ville/localité proche\n",
        "---"
      ]
    },
    {
      "cell_type": "markdown",
      "metadata": {},
      "source": [
        "- Vérifier si nous avons toutes les autorisations (si notre clé API nous permet de requêter)\n",
        "- Trouver la ville la plus proche répertoriée"
      ]
    },
    {
      "cell_type": "markdown",
      "metadata": {
        "id": "KL0MS3RJ263K"
      },
      "source": [
        "## Partie 2 : API complémentaire - Données historiques\n",
        "\n",
        "### 📊 API Visual Crossing Weather (gratuite)\n",
        "Alternative avec 1000 appels/jour gratuits : [visualcrossing.com](https://www.visualcrossing.com/weather-api)"
      ]
    },
    {
      "cell_type": "code",
      "execution_count": 26,
      "metadata": {
        "id": "6OK5bXQy0srW"
      },
      "outputs": [
        {
          "name": "stdout",
          "output_type": "stream",
          "text": [
            "Erreur :  401 : No session info found.\n",
            "Erreur :  401 : No session info found.\n",
            "Erreur :  401 : No session info found.\n",
            "Erreur :  401 : No session info found.\n",
            "Erreur :  401 : No session info found.\n",
            "Erreur :  401 : No session info found.\n",
            "Empty DataFrame\n",
            "Columns: []\n",
            "Index: []\n"
          ]
        }
      ],
      "source": [
        "# Configuration Visual Crossing\n",
        "VC_API_KEY = os.getenv('VC_key')\n",
        "VC_BASE_URL = \"https://weather.visualcrossing.com/VisualCrossingWebServices/rest/services/timeline\"\n",
        "start_date = '2025-06-30'\n",
        "end_date = '2025-07-05'\n",
        "CITIES = [\"Paris\", \"Berlin\", \"Madrid\", \"Rome\", \"Amsterdam\", \"Vienna\"]\n",
        "\n",
        "def get_historical_weather(cities, start_date, end_date, api_key):\n",
        "    \"\"\"\n",
        "    Récupère les données météo historiques\n",
        "\n",
        "    Défis à résoudre :\n",
        "    1. Construire l'URL avec les dates\n",
        "    2. Gérer la pagination si nécessaire\n",
        "    3. Extraire les données pertinentes du JSON complexe\n",
        "    4. Convertir en DataFrame pandas\n",
        "    \"\"\"\n",
        "\n",
        "    \n",
        "    results = []\n",
        "    for city in cities:\n",
        "        url = f\"{VC_BASE_URL}/{city}/{start_date}/{end_date}\"\n",
        "        params = {\n",
        "            'key': api_key,\n",
        "            'include': 'days',\n",
        "            'unitGroup': 'metric',\n",
        "            'elements': 'datetime,temp,humidity,precip,windspeed,pressure'\n",
        "        }\n",
        "\n",
        "        try:\n",
        "            response = requests.get(url, params=params)\n",
        "            if response.status_code == 200:\n",
        "                data = response.json()\n",
        "                results.append({'ville': city, 'data': data})\n",
        "            else:\n",
        "                print(f'Erreur :  {response.status_code} : {response.text}')\n",
        "        except requests.exceptions.RequestException as e:\n",
        "            print(f'Erreur de connexion : {e}')\n",
        "    return results\n",
        "\n",
        "\n",
        "rentree_weather = get_historical_weather(CITIES, start_date, end_date, VC_API_KEY)\n",
        "\n",
        "# print(json.dumps(rentree_weather, indent=2, ensure_ascii=False))\n",
        "\n",
        "villes = [] # liste de dictionnaires de données de chaque ville (chaque dict = une ligne)\n",
        "for villes_data in rentree_weather: \n",
        "    ville = villes_data['ville'] # récupération des noms de villes\n",
        "    for day in villes_data['data']['days']: # récupération de chaque jour\n",
        " # Mise en relation des clés/valeurs pour chaque données récoltées\n",
        "        villes.append({ \n",
        "            'date': day['datetime'],\n",
        "            'ville': ville,\n",
        "            'temp': day['temp'],\n",
        "            'humidity': day['humidity'],\n",
        "            'precip': day['precip'],\n",
        "            'windspeed': day['windspeed']\n",
        "        })\n",
        "# Création du Dataframe\n",
        "df_rentree_weather = pd.DataFrame(villes)\n",
        "# Vérification\n",
        "print(df_rentree_weather.head(10))\n",
        "\n",
        "\n"
      ]
    },
    {
      "cell_type": "markdown",
      "metadata": {
        "id": "WiSgjF2V3JOv"
      },
      "source": [
        "### 🎯 Mission pratique\n",
        "Récupérez les données des 30 derniers jours pour toutes vos villes et créez un DataFrame consolidé.\n",
        "\n",
        "**Structure attendue :**\n",
        "```\n",
        "| date       | ville     | temperature | humidite | precipitation | vent |\n",
        "|------------|-----------|-------------|----------|---------------|------|\n",
        "| 2024-01-01 | Paris     | 12.5        | 75       | 2.3          | 15   |\n",
        "```\n",
        "\n",
        "---\n"
      ]
    },
    {
      "cell_type": "code",
      "execution_count": null,
      "metadata": {
        "id": "V0DOb0363VJU"
      },
      "outputs": [],
      "source": [
        "### 🗺️ Obtenir les coordonnées\n",
        "def get_city_coordinates(cities, api_key):\n",
        "    \"\"\"\n",
        "    Utilise l'API Geocoding d'OpenWeatherMap\n",
        "    URL : http://api.openweathermap.org/geo/1.0/direct\n",
        "\n",
        "    Récupérez lat/lon pour chaque ville\n",
        "    \"\"\"\n",
        "    url = 'http://api.openweathermap.org/geo/1.0/direct'\n",
        "    city_coordinates = []\n",
        "    for city in cities:\n",
        "        params = {\n",
        "            'q': city,\n",
        "            'limit': 1,\n",
        "            'appid': api_key,\n",
        "            'lang': 'fr'\n",
        "        }\n",
        "        try:\n",
        "            response = requests.get(url, params=params)\n",
        "\n",
        "            if response.status_code == 200:\n",
        "                data = response.json()\n",
        "                if data:\n",
        "                    lat = data[0]['lat']\n",
        "                    lon = data[0]['lon']\n",
        "                    city_coordinates.append({\n",
        "                        'ville': city,\n",
        "                        'lat': lat,\n",
        "                        'lon': lon\n",
        "                    })\n",
        "                else:\n",
        "                    print('erreur')\n",
        "        except requests.exceptions.RequestException as e:\n",
        "            print(f'erreur : {e}')\n",
        "    return city_coordinates\n",
        "\n",
        "\n",
        "coords = get_city_coordinates(CITIES, API_KEY)\n",
        "print(json.dumps(coords, indent=2, ensure_ascii=False))"
      ]
    },
    {
      "cell_type": "code",
      "execution_count": 16,
      "metadata": {
        "id": "iR8RHaqM0suN"
      },
      "outputs": [],
      "source": [
        "## Partie 3 : API supplémentaire - Qualité de l'air\n",
        "\n",
        "### 🌬️ API OpenWeatherMap Air Pollution\n",
        "def get_air_quality(lat, lon, api_key):\n",
        "    \"\"\"\n",
        "    Récupère les données de qualité de l'air\n",
        "\n",
        "    URL : http://api.openweathermap.org/data/2.5/air_pollution\n",
        "\n",
        "    Étapes :\n",
        "    1. Utiliser les coordonnées lat/lon des villes\n",
        "    2. Récupérer l'indice AQI et les composants (PM2.5, PM10, O3, etc.)\n",
        "    3. Joindre ces données avec vos données météo\n",
        "    \"\"\"\n",
        "    url = 'http://api.openweathermap.org/data/2.5/air_pollution'\n",
        "    params = {\n",
        "        'lat': lat,\n",
        "        'lon': lon,\n",
        "        'appid': api_key    \n",
        "    }\n",
        "\n",
        "    try:\n",
        "        response = requests.get(url, params=params)\n",
        "        if response.status_code == 200:\n",
        "            data = response.json()\n",
        "            if data and 'list' in data and len(data['list']) > 0:\n",
        "                aqi = data['list'][0]['main']['aqi']\n",
        "                composants = data['list'][0]['components']\n",
        "                return {\n",
        "                    'lat': lat,\n",
        "                    'lon': lon,\n",
        "                    'aqi': aqi,\n",
        "                    'composants': composants\n",
        "                }\n",
        "            else:\n",
        "                print('Données manquantes.')\n",
        "    except requests.exceptions.RequestException as e:\n",
        "        print(f'Erreur : {e} ')\n",
        "\n",
        "    return None"
      ]
    },
    {
      "cell_type": "code",
      "execution_count": 22,
      "metadata": {},
      "outputs": [
        {
          "name": "stdout",
          "output_type": "stream",
          "text": [
            "[\n",
            "  {\n",
            "    \"lat\": 48.8588897,\n",
            "    \"lon\": 2.3200410217200766,\n",
            "    \"aqi\": 1,\n",
            "    \"composants\": {\n",
            "      \"co\": 151.94,\n",
            "      \"no\": 0.81,\n",
            "      \"no2\": 2.36,\n",
            "      \"o3\": 55.93,\n",
            "      \"so2\": 0.78,\n",
            "      \"pm2_5\": 3.11,\n",
            "      \"pm10\": 4.5,\n",
            "      \"nh3\": 2.17\n",
            "    },\n",
            "    \"ville\": \"Paris\"\n",
            "  },\n",
            "  {\n",
            "    \"lat\": 52.5170365,\n",
            "    \"lon\": 13.3888599,\n",
            "    \"aqi\": 1,\n",
            "    \"composants\": {\n",
            "      \"co\": 117.16,\n",
            "      \"no\": 0.51,\n",
            "      \"no2\": 3.6,\n",
            "      \"o3\": 33.27,\n",
            "      \"so2\": 0.7,\n",
            "      \"pm2_5\": 0.98,\n",
            "      \"pm10\": 1.22,\n",
            "      \"nh3\": 1.23\n",
            "    },\n",
            "    \"ville\": \"Berlin\"\n",
            "  },\n",
            "  {\n",
            "    \"lat\": 40.4167047,\n",
            "    \"lon\": -3.7035825,\n",
            "    \"aqi\": 1,\n",
            "    \"composants\": {\n",
            "      \"co\": 92.77,\n",
            "      \"no\": 0.92,\n",
            "      \"no2\": 3.14,\n",
            "      \"o3\": 55.19,\n",
            "      \"so2\": 0.08,\n",
            "      \"pm2_5\": 2.41,\n",
            "      \"pm10\": 4.2,\n",
            "      \"nh3\": 8.7\n",
            "    },\n",
            "    \"ville\": \"Madrid\"\n",
            "  },\n",
            "  {\n",
            "    \"lat\": 41.8933203,\n",
            "    \"lon\": 12.4829321,\n",
            "    \"aqi\": 2,\n",
            "    \"composants\": {\n",
            "      \"co\": 110.77,\n",
            "      \"no\": 0.06,\n",
            "      \"no2\": 0.35,\n",
            "      \"o3\": 77.81,\n",
            "      \"so2\": 0.5,\n",
            "      \"pm2_5\": 3.9,\n",
            "      \"pm10\": 22.65,\n",
            "      \"nh3\": 0.8\n",
            "    },\n",
            "    \"ville\": \"Rome\"\n",
            "  },\n",
            "  {\n",
            "    \"lat\": 52.3727598,\n",
            "    \"lon\": 4.8936041,\n",
            "    \"aqi\": 2,\n",
            "    \"composants\": {\n",
            "      \"co\": 162.06,\n",
            "      \"no\": 1.58,\n",
            "      \"no2\": 7.41,\n",
            "      \"o3\": 64.99,\n",
            "      \"so2\": 2.18,\n",
            "      \"pm2_5\": 1.15,\n",
            "      \"pm10\": 1.87,\n",
            "      \"nh3\": 3.16\n",
            "    },\n",
            "    \"ville\": \"Amsterdam\"\n",
            "  },\n",
            "  {\n",
            "    \"lat\": 48.2083537,\n",
            "    \"lon\": 16.3725042,\n",
            "    \"aqi\": 1,\n",
            "    \"composants\": {\n",
            "      \"co\": 107.7,\n",
            "      \"no\": 1.68,\n",
            "      \"no2\": 3.74,\n",
            "      \"o3\": 33.81,\n",
            "      \"so2\": 0.69,\n",
            "      \"pm2_5\": 0.89,\n",
            "      \"pm10\": 1.37,\n",
            "      \"nh3\": 2.49\n",
            "    },\n",
            "    \"ville\": \"Vienna\"\n",
            "  }\n",
            "]\n"
          ]
        }
      ],
      "source": [
        "# Test get_air_quality\n",
        "city_coords = get_city_coordinates(CITIES, API_KEY)\n",
        "air_quality = []\n",
        "\n",
        "for city in city_coords:\n",
        "    ville = city['ville']\n",
        "    lat = city['lat']\n",
        "    lon = city['lon']\n",
        "    aqi_data = get_air_quality(lat, lon, API_KEY)\n",
        "    if aqi_data:\n",
        "        aqi_data['ville'] = ville\n",
        "        air_quality.append(aqi_data)\n",
        "\n",
        "print(json.dumps(air_quality, indent=2, ensure_ascii=False))"
      ]
    },
    {
      "cell_type": "markdown",
      "metadata": {
        "id": "v02lzUOv3kp6"
      },
      "source": [
        "\n",
        "## Partie 4 : Analyse et visualisation\n",
        "\n",
        "### 📈 Analyses à réaliser\n",
        "\n",
        "1. **Comparaison inter-villes**\n",
        "   - Températures moyennes par ville\n",
        "   - Variabilité climatique (écart-type)\n",
        "   - Corrélations température/humidité\n",
        "\n",
        "2. **Tendances temporelles**\n",
        "   - Évolution sur 30 jours\n",
        "   - Identification des patterns\n",
        "\n",
        "3. **Qualité de l'air vs météo**\n",
        "   - Impact de la pluie sur la pollution\n",
        "   - Corrélations vent/qualité de l'air"
      ]
    },
    {
      "cell_type": "code",
      "execution_count": null,
      "metadata": {
        "colab": {
          "base_uri": "https://localhost:8080/",
          "height": 51
        },
        "id": "IQb6JSIp3VSD",
        "outputId": "542a1e6a-381e-40c4-a65a-c21522e3b42d"
      },
      "outputs": [
        {
          "data": {
            "text/plain": [
              "<Figure size 1500x800 with 0 Axes>"
            ]
          },
          "execution_count": 38,
          "metadata": {},
          "output_type": "execute_result"
        },
        {
          "data": {
            "text/plain": [
              "<Figure size 1500x800 with 0 Axes>"
            ]
          },
          "metadata": {},
          "output_type": "display_data"
        }
      ],
      "source": [
        "### 💡 Visualisations guidées\n",
        "\n",
        "# 1. Heatmap des températures par ville et jour\n",
        "plt.figure(figsize=(15, 8))\n",
        "\n",
        "# Créez un pivot table : villes en colonnes, dates en lignes\n",
        "# Utilisez seaborn.heatmap()\n",
        "\n",
        "# 2. Boxplot comparatif des précipitations\n",
        "# Utilisez seaborn.boxplot()\n",
        "\n",
        "# 3. Scatter plot qualité air vs température\n",
        "# Ajoutez une regression line avec seaborn.regplot()\n",
        "\n"
      ]
    },
    {
      "cell_type": "markdown",
      "metadata": {
        "id": "U3OFGeR437l0"
      },
      "source": [
        "## Partie 5 : API bonus - Données agricoles\n",
        "\n",
        "### 🌱 API AgroMonitoring (gratuite)"
      ]
    },
    {
      "cell_type": "code",
      "execution_count": null,
      "metadata": {
        "id": "9PZMkaLO3zAK"
      },
      "outputs": [],
      "source": [
        "# API satellite pour l'agriculture\n",
        "AGRO_API_KEY = \"VOTRE_CLE_AGROMONITORING\"\n",
        "\n",
        "def get_soil_data(polygon_coordinates, api_key):\n",
        "    \"\"\"\n",
        "    Récupère des données de sol via satellite\n",
        "    URL : http://api.agromonitoring.com/agro/1.0/\n",
        "\n",
        "    Données disponibles :\n",
        "    - Indices de végétation (NDVI)\n",
        "    - Humidité du sol\n",
        "    - Température de surface\n",
        "    \"\"\"\n",
        "    pass\n"
      ]
    },
    {
      "cell_type": "markdown",
      "metadata": {
        "id": "9U_DNqp24DD6"
      },
      "source": [
        "\n",
        "**Défi avancé :** Créez des recommandations de plantation basées sur :\n",
        "- Données météo des 30 derniers jours\n",
        "- Prévisions à 5 jours\n",
        "- Qualité de l'air\n",
        "- Indices de végétation satellite\n",
        "\n"
      ]
    },
    {
      "cell_type": "markdown",
      "metadata": {
        "id": "W15DybdE4Ksu"
      },
      "source": [
        "## 🏆 Livrables attendus\n",
        "\n",
        "### 📊 Dashboard météo\n",
        "Créez un tableau de bord contenant :\n",
        "1. **Aperçu temps réel** des 6 villes\n",
        "2. **Graphiques de tendances** sur 30 jours\n",
        "3. **Alertes qualité de l'air** (AQI > 100)\n",
        "4. **Recommandations agricoles** par ville"
      ]
    },
    {
      "cell_type": "code",
      "execution_count": null,
      "metadata": {
        "id": "46lA8m084ULP"
      },
      "outputs": [],
      "source": [
        "### 📱 Format de présentation\n",
        "\n",
        "def generate_weather_report(city_data):\n",
        "    \"\"\"\n",
        "    Génère un rapport automatisé\n",
        "\n",
        "    Format :\n",
        "    - Résumé exécutif (3 lignes)\n",
        "    - Métriques clés (tableaux)\n",
        "    - Graphiques (4 visualisations)\n",
        "    - Recommandations (bullet points)\n",
        "    \"\"\"\n",
        "    pass"
      ]
    },
    {
      "cell_type": "markdown",
      "metadata": {
        "id": "eqxVMuuh4Qsq"
      },
      "source": [
        "---\n",
        "\n",
        "## 🎓 Critères d'évaluation\n",
        "\n",
        "- [ ] **APIs fonctionnelles** : Toutes les connexions API marchent\n",
        "- [ ] **Gestion d'erreurs** : Code robuste avec try/except\n",
        "- [ ] **Qualité des données** : Validation et nettoyage\n",
        "- [ ] **Visualisations** : Graphiques informatifs et esthétiques\n",
        "- [ ] **Insights business** : Recommandations basées sur les données\n",
        "\n",
        "### 🔗 Préparation au Notebook 2\n",
        "Le prochain notebook utilisera une vraie base de données PostgreSQL hébergée pour analyser des données de ventes e-commerce, en croisant avec vos données météo pour des analyses géolocalisées.\n",
        "\n",
        "### 📚 APIs alternatives (si quotas dépassés)\n",
        "- **WeatherAPI** : 1M appels/mois gratuits\n",
        "- **AccuWeather** : 50 appels/jour gratuits  \n",
        "- **Climatiq** : Données climat et carbone\n",
        "- **NASA APIs** : Données satellite gratuites"
      ]
    }
  ],
  "metadata": {
    "colab": {
      "provenance": []
    },
    "kernelspec": {
      "display_name": ".venv",
      "language": "python",
      "name": "python3"
    },
    "language_info": {
      "codemirror_mode": {
        "name": "ipython",
        "version": 3
      },
      "file_extension": ".py",
      "mimetype": "text/x-python",
      "name": "python",
      "nbconvert_exporter": "python",
      "pygments_lexer": "ipython3",
      "version": "3.12.3"
    }
  },
  "nbformat": 4,
  "nbformat_minor": 0
}
