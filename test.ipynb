{
 "cells": [
  {
   "cell_type": "code",
   "execution_count": 1,
   "id": "6cae5b59",
   "metadata": {},
   "outputs": [],
   "source": [
    "import psycopg2\n",
    "import pandas as pd\n",
    "import numpy as np\n",
    "from sqlalchemy import create_engine\n",
    "import matplotlib.pyplot as plt\n",
    "import seaborn as sns\n",
    "from datetime import datetime, timedelta\n",
    "import os\n",
    "from sqlalchemy import text\n",
    "from dotenv import load_dotenv"
   ]
  },
  {
   "cell_type": "markdown",
   "id": "ec00df1e",
   "metadata": {},
   "source": [
    "## Mise en dataframe des données"
   ]
  },
  {
   "cell_type": "code",
   "execution_count": 2,
   "id": "34cacb49",
   "metadata": {},
   "outputs": [
    {
     "name": "stdout",
     "output_type": "stream",
     "text": [
      "olist_order_payments_dataset.csv chargé : 103886 lignes, 5 colonnes\n",
      "olist_order_reviews_dataset.csv chargé : 99224 lignes, 7 colonnes\n",
      "olist_products_dataset.csv chargé : 32951 lignes, 9 colonnes\n",
      "olist_customers_dataset.csv chargé : 99441 lignes, 5 colonnes\n",
      "olist_sellers_dataset.csv chargé : 3095 lignes, 4 colonnes\n",
      "olist_orders_dataset.csv chargé : 99441 lignes, 8 colonnes\n",
      "olist_geolocation_dataset.csv chargé : 1000163 lignes, 5 colonnes\n",
      "product_category_name_translation.csv chargé : 71 lignes, 2 colonnes\n",
      "olist_order_items_dataset.csv chargé : 112650 lignes, 7 colonnes\n"
     ]
    }
   ],
   "source": [
    "# Mise en DataFrame des csv\n",
    "# Liste pour stockers les dataframes\n",
    "df_list = {}\n",
    "# Dossier avec les csv\n",
    "data_folder = \"data\"\n",
    "# Boucle sur les fichiers du dossier \n",
    "for csv in os.listdir(data_folder):\n",
    "    if csv.endswith(\".csv\"): # Filtre les fichiers au format csv\n",
    "        file_path = os.path.join(data_folder, csv)\n",
    "        df = pd.read_csv(file_path) # Lecture des csv\n",
    "        # Stockage dans le dictionnaire df_list\n",
    "        name = os.path.splitext(csv)[0]\n",
    "        df_list[name] = df\n",
    "        print(f'{csv} chargé : {df.shape[0]} lignes, {df.shape[1]} colonnes')"
   ]
  },
  {
   "cell_type": "markdown",
   "id": "bf1a8982",
   "metadata": {},
   "source": [
    "## Connexion à supabase"
   ]
  },
  {
   "cell_type": "code",
   "execution_count": 3,
   "id": "e6a4551e",
   "metadata": {},
   "outputs": [
    {
     "name": "stdout",
     "output_type": "stream",
     "text": [
      "Connexion Ok | Version :  PostgreSQL 17.4 on aarch64-unknown-linux-gnu, compiled by gcc (GCC) 13.2.0, 64-bit\n"
     ]
    },
    {
     "data": {
      "text/plain": [
       "True"
      ]
     },
     "execution_count": 3,
     "metadata": {},
     "output_type": "execute_result"
    }
   ],
   "source": [
    "# Configuration de connexion (à adapter selon votre provider)\n",
    "load_dotenv()\n",
    "\n",
    "\n",
    "host = os.getenv('DB_HOST')  #  host Supabase\n",
    "password = os.getenv('DB_PASSWORD_BIS')\n",
    "user = os.getenv('DB_USER_BIS')\n",
    "database = os.getenv('DB_DATABASE')\n",
    "port = os.getenv('DB_PORT')\n",
    "\n",
    "\n",
    "# Création de l'engine SQLAlchemy\n",
    "connection_string = f\"postgresql+psycopg2://{user}:{password}@{host}:{port}/{database}\"\n",
    "engine = create_engine(connection_string)\n",
    "\n",
    "# Test de connexion\n",
    "def test_connection():\n",
    "    \"\"\"\n",
    "    Testez votre connexion à la base\n",
    "\n",
    "    Étapes :\n",
    "    1. Utilisez pd.read_sql() pour exécuter \"SELECT version()\"\n",
    "    2. Affichez la version PostgreSQL\n",
    "    3. Gérez les erreurs de connexion\n",
    "    \"\"\"\n",
    "    try:\n",
    "        df = pd.read_sql('SELECT version();', engine)\n",
    "        print('Connexion Ok | Version : ', df.iloc[0,0])\n",
    "    except Exception as e:\n",
    "        print(f\"Erreur de connexion : {e}\")\n",
    "        return False\n",
    "    return True\n",
    "test_connection()"
   ]
  },
  {
   "cell_type": "markdown",
   "id": "8f3f9c80",
   "metadata": {},
   "source": [
    "## Création tables\n"
   ]
  },
  {
   "cell_type": "code",
   "execution_count": 4,
   "id": "4156c991",
   "metadata": {},
   "outputs": [],
   "source": [
    "### 🗃️ Création des tables SQL\n",
    "\n",
    "for table_name, df in df_list.items():\n",
    "    df.to_sql(name=table_name, con=engine, if_exists='replace', index=False)\n"
   ]
  },
  {
   "cell_type": "markdown",
   "id": "ddd17cff",
   "metadata": {},
   "source": [
    "## Analyse RFM"
   ]
  },
  {
   "cell_type": "code",
   "execution_count": null,
   "id": "8124c69b",
   "metadata": {},
   "outputs": [
    {
     "name": "stdout",
     "output_type": "stream",
     "text": [
      "              ref_date\n",
      "0  2018-10-17 17:30:18\n",
      "2018-10-17 17:30:18\n",
      "<class 'datetime.datetime'>\n",
      "                            customer_id  recency_days  r_score\n",
      "0      856336203359aa6a61bf3826f7d84c49           0.0        1\n",
      "1      a4b417188addbc05b26b72d5e44837a1           0.0        1\n",
      "2      4c2ec60c29d10c34bd49cb88aa85cfc4          13.0        1\n",
      "3      bf6181a85bbb4115736c0a8db1a53be3          16.0        1\n",
      "4      2823ffda607a2316375088e0d00005ec          18.0        1\n",
      "...                                 ...           ...      ...\n",
      "99436  b106b360fe2ef8849fbbd056f777b4d5         744.0        5\n",
      "99437  86dc2ffce2dfff336de2f386a786e574         762.0        5\n",
      "99438  622e13439d6b5a0b486c435618b2679e         764.0        5\n",
      "99439  08c5351a6aca1c1589a38f244edeee9d         772.0        5\n",
      "99440  683c54fc24d40ee9f8a6fc179fd9856c         772.0        5\n",
      "\n",
      "[99441 rows x 3 columns]\n"
     ]
    }
   ],
   "source": [
    "# RECENCE\n",
    "recence_query_max = \"\"\"\n",
    "SELECT MAX(order_purchase_timestamp) AS ref_date FROM olist_orders_dataset;\n",
    "\"\"\"\n",
    "df_recence = pd.read_sql_query(recence_query_max, con=engine)\n",
    "print(df_recence)\n",
    "ref_date = df_recence['ref_date'].iloc[0]\n",
    "print(ref_date)\n",
    "\n",
    "# S’assurer que ref_date est bien un datetime natif\n",
    "ref_date = pd.to_datetime(ref_date).to_pydatetime()\n",
    "print(type(ref_date))\n",
    "\n",
    "recency_query = text(\"\"\"\n",
    "    SELECT \n",
    "        customer_id,\n",
    "        DATE_PART(\n",
    "            'day', \n",
    "            CAST(:ref_date AS timestamp) - CAST(MAX(order_purchase_timestamp) AS timestamp)\n",
    "        ) AS recency_days,\n",
    "        NTILE(5) OVER (\n",
    "            ORDER BY DATE_PART(\n",
    "                'day', \n",
    "                CAST(:ref_date AS timestamp) - CAST(MAX(order_purchase_timestamp) AS timestamp)\n",
    "            )\n",
    "        ) AS r_score\n",
    "    FROM olist_orders_dataset\n",
    "    GROUP BY customer_id\n",
    "                     \n",
    "\"\"\")\n",
    "\n",
    "\n",
    "\n",
    "df_rfm_recency = pd.read_sql_query(recency_query, con=engine, params={\"ref_date\": ref_date})\n",
    "\n",
    "print(df_rfm_recency)"
   ]
  },
  {
   "cell_type": "code",
   "execution_count": null,
   "id": "3008785c",
   "metadata": {},
   "outputs": [
    {
     "name": "stdout",
     "output_type": "stream",
     "text": [
      "                     customer_unique_id  nb_commandes  f_score\n",
      "0      8d50f5eadf50201ccdcedfb9e2ac8455            15        5\n",
      "1      3e43e6105506432c953e165fb2acf44c             9        5\n",
      "2      ca77025e7201e3b30c44b472ff346268             7        5\n",
      "3      6469f99c1f9dfae7733b25662e7f1782             7        5\n",
      "4      1b6c7548a2a1f9037c1fd3ddfed95f33             7        5\n",
      "...                                 ...           ...      ...\n",
      "93353  7cce791a0d926ac8490ca7135968da8a             1        2\n",
      "93354  7ccedf663c0cde4d0210c10493fac745             1        2\n",
      "93355  7ccf289b6c5f2c9bb62bb044cc15fa5e             1        2\n",
      "93356  7ccf66a9802ab7edf4361d8b6adead71             1        2\n",
      "93357  7ccff7239174883e2ed56008ac04e184             1        2\n",
      "\n",
      "[93358 rows x 3 columns]\n"
     ]
    }
   ],
   "source": [
    "verif_order = \"\"\"\n",
    "CREATE VIEW frequency AS\n",
    "    SELECT \n",
    "        c.customer_unique_id,\n",
    "        COUNT(DISTINCT o.order_id) AS nb_commandes,\n",
    "        NTILE(5) OVER (ORDER BY COUNT(o.order_id)) AS f_score\n",
    "    FROM olist_orders_dataset o\n",
    "    JOIN olist_customers_dataset c ON o.customer_id = c.customer_id\n",
    "    WHERE o.order_status = 'delivered'\n",
    "    GROUP BY c.customer_unique_id\n",
    "\"\"\"\n",
    "\n",
    "\n",
    "frequence = \"\"\"\n",
    "SELECT * FROM frequency\n",
    "ORDER BY nb_commandes DESC;\n",
    "\"\"\"\n",
    "\n",
    "df_verif = pd.read_sql_query(frequence, con=engine)\n",
    "print(df_verif)"
   ]
  },
  {
   "cell_type": "code",
   "execution_count": 30,
   "id": "d7b348e4",
   "metadata": {},
   "outputs": [
    {
     "name": "stdout",
     "output_type": "stream",
     "text": [
      "customer_unique_id                order_count  f_score\n",
      "0000366f3b9a7992bf8c76cfdf3221e2  1            4          1\n",
      "0000b849f77a49e4a4ce2b2a4ca5be3f  1            2          1\n",
      "0000f46a3911fa3c0805444483337064  1            5          1\n",
      "0000f6ccb0745a6a4b88665a16c9f078  1            4          1\n",
      "0004aac84e0df4da2b147fca70cf8255  1            5          1\n",
      "                                                         ..\n",
      "fffcf5a5ff07b0908bd4e2dbc735a684  1            1          1\n",
      "fffea47cd6d3cc0a88bd621562a9d061  1            2          1\n",
      "ffff371b4d645b6ecea244b27531430a  1            2          1\n",
      "ffff5962728ec6157033ef9805bacc48  1            4          1\n",
      "ffffd2657e2aad2907e67c3e9daecbeb  1            5          1\n",
      "Name: count, Length: 96096, dtype: int64\n"
     ]
    }
   ],
   "source": [
    "# Fréquence\n",
    "\n",
    "freq = text(\"\"\"\n",
    "SELECT\n",
    "    c.customer_unique_id,\n",
    "    COUNT(o.order_id) AS order_count,\n",
    "    NTILE(5) OVER (ORDER BY COUNT(o.order_id)) AS f_score\n",
    "FROM olist_orders_dataset o\n",
    "JOIN olist_customers_dataset c ON o.customer_id = c.customer_id\n",
    "GROUP BY c.customer_unique_id\n",
    "ORDER BY order_count DESC;\n",
    "\"\"\")\n",
    "\n",
    "total_order = pd.read_sql(freq, con=engine)\n",
    "print(total_order.value_counts())\n"
   ]
  }
 ],
 "metadata": {
  "kernelspec": {
   "display_name": ".venv",
   "language": "python",
   "name": "python3"
  },
  "language_info": {
   "codemirror_mode": {
    "name": "ipython",
    "version": 3
   },
   "file_extension": ".py",
   "mimetype": "text/x-python",
   "name": "python",
   "nbconvert_exporter": "python",
   "pygments_lexer": "ipython3",
   "version": "3.12.3"
  }
 },
 "nbformat": 4,
 "nbformat_minor": 5
}
