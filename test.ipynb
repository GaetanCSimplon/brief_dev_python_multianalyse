{
 "cells": [
  {
   "cell_type": "code",
   "execution_count": 1,
   "id": "6cae5b59",
   "metadata": {},
   "outputs": [],
   "source": [
    "import psycopg2\n",
    "import pandas as pd\n",
    "import numpy as np\n",
    "from sqlalchemy import create_engine\n",
    "import matplotlib.pyplot as plt\n",
    "import seaborn as sns\n",
    "from datetime import datetime, timedelta\n",
    "import os\n",
    "from sqlalchemy import text\n",
    "from dotenv import load_dotenv"
   ]
  },
  {
   "cell_type": "markdown",
   "id": "ec00df1e",
   "metadata": {},
   "source": [
    "## Mise en dataframe des données"
   ]
  },
  {
   "cell_type": "code",
   "execution_count": 2,
   "id": "34cacb49",
   "metadata": {},
   "outputs": [
    {
     "name": "stdout",
     "output_type": "stream",
     "text": [
      "olist_order_payments_dataset.csv chargé : 103886 lignes, 5 colonnes\n",
      "olist_order_reviews_dataset.csv chargé : 99224 lignes, 7 colonnes\n",
      "olist_products_dataset.csv chargé : 32951 lignes, 9 colonnes\n",
      "olist_customers_dataset.csv chargé : 99441 lignes, 5 colonnes\n",
      "olist_sellers_dataset.csv chargé : 3095 lignes, 4 colonnes\n",
      "olist_orders_dataset.csv chargé : 99441 lignes, 8 colonnes\n",
      "olist_geolocation_dataset.csv chargé : 1000163 lignes, 5 colonnes\n",
      "product_category_name_translation.csv chargé : 71 lignes, 2 colonnes\n",
      "olist_order_items_dataset.csv chargé : 112650 lignes, 7 colonnes\n"
     ]
    }
   ],
   "source": [
    "# Mise en DataFrame des csv\n",
    "# Liste pour stockers les dataframes\n",
    "df_list = {}\n",
    "# Dossier avec les csv\n",
    "data_folder = \"data\"\n",
    "# Boucle sur les fichiers du dossier \n",
    "for csv in os.listdir(data_folder):\n",
    "    if csv.endswith(\".csv\"): # Filtre les fichiers au format csv\n",
    "        file_path = os.path.join(data_folder, csv)\n",
    "        df = pd.read_csv(file_path) # Lecture des csv\n",
    "        # Stockage dans le dictionnaire df_list\n",
    "        name = os.path.splitext(csv)[0]\n",
    "        df_list[name] = df\n",
    "        print(f'{csv} chargé : {df.shape[0]} lignes, {df.shape[1]} colonnes')"
   ]
  },
  {
   "cell_type": "markdown",
   "id": "bf1a8982",
   "metadata": {},
   "source": [
    "## Connexion à supabase"
   ]
  },
  {
   "cell_type": "code",
   "execution_count": 6,
   "id": "e6a4551e",
   "metadata": {},
   "outputs": [
    {
     "name": "stdout",
     "output_type": "stream",
     "text": [
      "Connexion Ok | Version :  PostgreSQL 17.4 on aarch64-unknown-linux-gnu, compiled by gcc (GCC) 13.2.0, 64-bit\n"
     ]
    },
    {
     "data": {
      "text/plain": [
       "True"
      ]
     },
     "execution_count": 6,
     "metadata": {},
     "output_type": "execute_result"
    }
   ],
   "source": [
    "# Configuration de connexion (à adapter selon votre provider)\n",
    "load_dotenv()\n",
    "\n",
    "\n",
    "host = os.getenv('DB_HOST')  #  host Supabase\n",
    "password = os.getenv('DB_PASSWORD_BIS')\n",
    "user = os.getenv('DB_USER_BIS')\n",
    "database = os.getenv('DB_DATABASE')\n",
    "port = os.getenv('DB_PORT')\n",
    "\n",
    "\n",
    "# Création de l'engine SQLAlchemy\n",
    "connection_string = f\"postgresql+psycopg2://{user}:{password}@{host}:{port}/{database}\"\n",
    "engine = create_engine(connection_string)\n",
    "\n",
    "# Test de connexion\n",
    "def test_connection():\n",
    "    \"\"\"\n",
    "    Testez votre connexion à la base\n",
    "\n",
    "    Étapes :\n",
    "    1. Utilisez pd.read_sql() pour exécuter \"SELECT version()\"\n",
    "    2. Affichez la version PostgreSQL\n",
    "    3. Gérez les erreurs de connexion\n",
    "    \"\"\"\n",
    "    try:\n",
    "        df = pd.read_sql('SELECT version();', engine)\n",
    "        print('Connexion Ok | Version : ', df.iloc[0,0])\n",
    "    except Exception as e:\n",
    "        print(f\"Erreur de connexion : {e}\")\n",
    "        return False\n",
    "    return True\n",
    "test_connection()"
   ]
  },
  {
   "cell_type": "markdown",
   "id": "8f3f9c80",
   "metadata": {},
   "source": [
    "## Création tables\n"
   ]
  },
  {
   "cell_type": "code",
   "execution_count": 8,
   "id": "4156c991",
   "metadata": {},
   "outputs": [],
   "source": [
    "### 🗃️ Création des tables SQL\n",
    "\n",
    "for table_name, df in df_list.items():\n",
    "    df.to_sql(name=table_name, con=engine, if_exists='replace', index=False)\n"
   ]
  },
  {
   "cell_type": "markdown",
   "id": "ddd17cff",
   "metadata": {},
   "source": [
    "## Analyse RFM"
   ]
  },
  {
   "cell_type": "code",
   "execution_count": null,
   "id": "8124c69b",
   "metadata": {},
   "outputs": [],
   "source": []
  }
 ],
 "metadata": {
  "kernelspec": {
   "display_name": ".venv",
   "language": "python",
   "name": "python3"
  },
  "language_info": {
   "codemirror_mode": {
    "name": "ipython",
    "version": 3
   },
   "file_extension": ".py",
   "mimetype": "text/x-python",
   "name": "python",
   "nbconvert_exporter": "python",
   "pygments_lexer": "ipython3",
   "version": "3.12.3"
  }
 },
 "nbformat": 4,
 "nbformat_minor": 5
}
